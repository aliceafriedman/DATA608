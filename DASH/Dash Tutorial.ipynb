{
 "cells": [
  {
   "cell_type": "code",
   "execution_count": 1,
   "metadata": {},
   "outputs": [],
   "source": [
    "import dash\n",
    "import dash_core_components as dcc\n",
    "import dash_html_components as html"
   ]
  },
  {
   "cell_type": "code",
   "execution_count": 2,
   "metadata": {},
   "outputs": [
    {
     "name": "stdout",
     "output_type": "stream",
     "text": [
      "Dash is running on http://127.0.0.1:8050/\n",
      "\n",
      " * Serving Flask app \"__main__\" (lazy loading)\n",
      " * Environment: production\n",
      "\u001b[31m   WARNING: This is a development server. Do not use it in a production deployment.\u001b[0m\n",
      "\u001b[2m   Use a production WSGI server instead.\u001b[0m\n",
      " * Debug mode: on\n"
     ]
    },
    {
     "ename": "SystemExit",
     "evalue": "1",
     "output_type": "error",
     "traceback": [
      "An exception has occurred, use %tb to see the full traceback.\n",
      "\u001b[0;31mSystemExit\u001b[0m\u001b[0;31m:\u001b[0m 1\n"
     ]
    },
    {
     "name": "stderr",
     "output_type": "stream",
     "text": [
      "/Users/alice/anaconda3/envs/dash/lib/python3.8/site-packages/IPython/core/interactiveshell.py:3425: UserWarning: To exit: use 'exit', 'quit', or Ctrl-D.\n",
      "  warn(\"To exit: use 'exit', 'quit', or Ctrl-D.\", stacklevel=1)\n"
     ]
    }
   ],
   "source": [
    "app = dash.Dash()\n",
    "\n",
    "#Create dict for CSS vals\n",
    "css = {\n",
    "    'background': '#111111',\n",
    "    'text_color': '#7FDBFF',\n",
    "    'textAlign': 'center'\n",
    "}\n",
    "\n",
    "app.layout = html.Div(\n",
    "    style = {\n",
    "        'backgroundColor' : css['background'], \n",
    "        'textAlign' : css['textAlign']}, \n",
    "    children = [\n",
    "        html.H1(\n",
    "            children = 'Hello Dash'\n",
    "        ),\n",
    "        html.Div(\n",
    "            style={'color': css['text_color']},\n",
    "            children='Dash: A web application framework for Python.'\n",
    "        ),\n",
    "        dcc.Graph(\n",
    "            id='Graph1',\n",
    "            figure = {\n",
    "                'data' : [\n",
    "                    {'x': [1, 2, 3], 'y': [4, 1, 2], 'type': 'bar', 'name': 'SF'},\n",
    "                    {'x': [1, 2, 3], 'y': [2, 4, 5], 'type': 'bar', 'name': u'Montréal'}\n",
    "                ],\n",
    "                'layout': {\n",
    "                    'plot_bgcolor': css['background'],\n",
    "                    'paper_bgcolor': css['background'],\n",
    "                    'font': {'color': css['text_color']}\n",
    "                \n",
    "            }}\n",
    "        )\n",
    "    ]\n",
    ")\n",
    "\n",
    "\n",
    "if __name__ == '__main__':\n",
    "    app.run_server(debug=True)\n",
    "        \n",
    "        "
   ]
  },
  {
   "cell_type": "code",
   "execution_count": null,
   "metadata": {},
   "outputs": [],
   "source": []
  }
 ],
 "metadata": {
  "kernelspec": {
   "display_name": "Python Dash",
   "language": "python",
   "name": "dash"
  },
  "language_info": {
   "codemirror_mode": {
    "name": "ipython",
    "version": 3
   },
   "file_extension": ".py",
   "mimetype": "text/x-python",
   "name": "python",
   "nbconvert_exporter": "python",
   "pygments_lexer": "ipython3",
   "version": "3.8.5"
  }
 },
 "nbformat": 4,
 "nbformat_minor": 4
}
